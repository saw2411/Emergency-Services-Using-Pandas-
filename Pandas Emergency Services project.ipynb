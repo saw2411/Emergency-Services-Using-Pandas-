{
 "cells": [
  {
   "cell_type": "code",
   "execution_count": 7,
   "id": "02247e4a-b705-4212-ae88-ba22749f5b1c",
   "metadata": {},
   "outputs": [],
   "source": [
    "import pandas as pd\n",
    "\n",
    "emergency = pd.read_excel(r\"C:\\Users\\sawya\\OneDrive\\Documents\\Pandas project\\CallTimings.xlsx\")\n"
   ]
  },
  {
   "cell_type": "code",
   "execution_count": 8,
   "id": "0a748754-8538-48a8-94f7-75f4a0665676",
   "metadata": {},
   "outputs": [],
   "source": [
    "ambulance_stations = pd.read_excel(r\"C:\\Users\\sawya\\OneDrive\\Documents\\Pandas project\\dimAmbulanceStation.xlsx\")"
   ]
  },
  {
   "cell_type": "code",
   "execution_count": 9,
   "id": "2a2d9d1b-3c51-45b6-a563-d9398355457d",
   "metadata": {},
   "outputs": [],
   "source": [
    "patients = pd.read_excel(r\"C:\\Users\\sawya\\OneDrive\\Documents\\Pandas project\\dimPatient.xlsx\")"
   ]
  },
  {
   "cell_type": "code",
   "execution_count": 10,
   "id": "11d4aa91-a6a9-4083-9246-103c198fee9d",
   "metadata": {},
   "outputs": [],
   "source": [
    "staff = pd.read_excel(r\"C:\\Users\\sawya\\OneDrive\\Documents\\Pandas project\\dimCallStaff.xlsx\")"
   ]
  },
  {
   "cell_type": "code",
   "execution_count": 11,
   "id": "f80096d1-dbd8-43cc-85db-dacb12b52e3e",
   "metadata": {},
   "outputs": [],
   "source": [
    "hospitals = pd.read_excel(r\"C:\\Users\\sawya\\OneDrive\\Documents\\Pandas project\\dimHospitals.xlsx\")"
   ]
  },
  {
   "cell_type": "code",
   "execution_count": 12,
   "id": "e003e889-b400-4420-ad2a-8c0f9dea97e2",
   "metadata": {},
   "outputs": [],
   "source": [
    "dispatch = pd.read_excel(r\"C:\\Users\\sawya\\OneDrive\\Documents\\Pandas project\\dimDispatchcode.xlsx\")"
   ]
  },
  {
   "cell_type": "code",
   "execution_count": 13,
   "id": "cd7c9790-55f4-48ae-b8e2-7d71b717a045",
   "metadata": {},
   "outputs": [
    {
     "data": {
      "text/html": [
       "<div>\n",
       "<style scoped>\n",
       "    .dataframe tbody tr th:only-of-type {\n",
       "        vertical-align: middle;\n",
       "    }\n",
       "\n",
       "    .dataframe tbody tr th {\n",
       "        vertical-align: top;\n",
       "    }\n",
       "\n",
       "    .dataframe thead th {\n",
       "        text-align: right;\n",
       "    }\n",
       "</style>\n",
       "<table border=\"1\" class=\"dataframe\">\n",
       "  <thead>\n",
       "    <tr style=\"text-align: right;\">\n",
       "      <th></th>\n",
       "      <th>DateTimeOfCall</th>\n",
       "      <th>LengthofCalls(mins)</th>\n",
       "      <th>CallStaffID</th>\n",
       "      <th>PatientID</th>\n",
       "      <th>Notes</th>\n",
       "      <th>DispatchCode</th>\n",
       "      <th>AmbulanceStationID</th>\n",
       "      <th>AmbulanceDepartureTime</th>\n",
       "      <th>AmulanceArrivalTimePatient</th>\n",
       "      <th>HospitalID</th>\n",
       "      <th>...</th>\n",
       "      <th>LastName</th>\n",
       "      <th>Position</th>\n",
       "      <th>PatientName</th>\n",
       "      <th>PatientAge</th>\n",
       "      <th>Gender</th>\n",
       "      <th>Name</th>\n",
       "      <th>Manager</th>\n",
       "      <th>ProtocolName</th>\n",
       "      <th>HospName</th>\n",
       "      <th>Capacity</th>\n",
       "    </tr>\n",
       "  </thead>\n",
       "  <tbody>\n",
       "    <tr>\n",
       "      <th>0</th>\n",
       "      <td>12/04/2020 02:06:18</td>\n",
       "      <td>11.182272</td>\n",
       "      <td>23</td>\n",
       "      <td>1066</td>\n",
       "      <td>NaN</td>\n",
       "      <td>3</td>\n",
       "      <td>3</td>\n",
       "      <td>2020-04-12 02:07:18.203</td>\n",
       "      <td>2020-04-12 02:14:50.753</td>\n",
       "      <td>12</td>\n",
       "      <td>...</td>\n",
       "      <td>Jerry</td>\n",
       "      <td>Operator</td>\n",
       "      <td>Patient 1066</td>\n",
       "      <td>36</td>\n",
       "      <td>M</td>\n",
       "      <td>Junction Station</td>\n",
       "      <td>Mark Montgomery</td>\n",
       "      <td>\\tProtocol 3: Animal Bites/Attacks_x000D_\\n</td>\n",
       "      <td>North Shore Hospital</td>\n",
       "      <td>12000</td>\n",
       "    </tr>\n",
       "    <tr>\n",
       "      <th>1</th>\n",
       "      <td>26/04/2020 21:07:02</td>\n",
       "      <td>13.030236</td>\n",
       "      <td>22</td>\n",
       "      <td>1039</td>\n",
       "      <td>NaN</td>\n",
       "      <td>17</td>\n",
       "      <td>3</td>\n",
       "      <td>2020-04-26 21:21:33.993</td>\n",
       "      <td>2020-04-26 21:23:49.133</td>\n",
       "      <td>4</td>\n",
       "      <td>...</td>\n",
       "      <td>Keith</td>\n",
       "      <td>Operator</td>\n",
       "      <td>Patient 1039</td>\n",
       "      <td>23</td>\n",
       "      <td>M</td>\n",
       "      <td>Junction Station</td>\n",
       "      <td>Mark Montgomery</td>\n",
       "      <td>\\tProtocol 17: Falls</td>\n",
       "      <td>Hamilton Hospital</td>\n",
       "      <td>10000</td>\n",
       "    </tr>\n",
       "    <tr>\n",
       "      <th>2</th>\n",
       "      <td>20/08/2020 16:35:42</td>\n",
       "      <td>16.392961</td>\n",
       "      <td>6</td>\n",
       "      <td>2381</td>\n",
       "      <td>NaN</td>\n",
       "      <td>9</td>\n",
       "      <td>5</td>\n",
       "      <td>2020-08-20 16:38:10.535</td>\n",
       "      <td>2020-08-20 16:58:40.127</td>\n",
       "      <td>1</td>\n",
       "      <td>...</td>\n",
       "      <td>Jeremy</td>\n",
       "      <td>Clinician</td>\n",
       "      <td>Patient 2381</td>\n",
       "      <td>42</td>\n",
       "      <td>M</td>\n",
       "      <td>Alley Station</td>\n",
       "      <td>Gregory Simmons</td>\n",
       "      <td>Protocol 9: Cardiac or Respiratory Arrest/Death</td>\n",
       "      <td>Auckland Hospital</td>\n",
       "      <td>15000</td>\n",
       "    </tr>\n",
       "    <tr>\n",
       "      <th>3</th>\n",
       "      <td>05/02/2020 02:18:45</td>\n",
       "      <td>9.959937</td>\n",
       "      <td>7</td>\n",
       "      <td>2635</td>\n",
       "      <td>NaN</td>\n",
       "      <td>1</td>\n",
       "      <td>1</td>\n",
       "      <td>2020-02-05 02:50:25.673</td>\n",
       "      <td>2020-02-05 02:56:20.244</td>\n",
       "      <td>2</td>\n",
       "      <td>...</td>\n",
       "      <td>Anthony</td>\n",
       "      <td>Clinician</td>\n",
       "      <td>Patient 2635</td>\n",
       "      <td>41</td>\n",
       "      <td>F</td>\n",
       "      <td>Parkway Station</td>\n",
       "      <td>Jesse Evans</td>\n",
       "      <td>\\tProtocol 1: Abdominal Pain/Problems_x000D_\\n</td>\n",
       "      <td>Dunedin Hospital</td>\n",
       "      <td>10000</td>\n",
       "    </tr>\n",
       "    <tr>\n",
       "      <th>4</th>\n",
       "      <td>27/05/2020 19:41:21</td>\n",
       "      <td>17.168555</td>\n",
       "      <td>6</td>\n",
       "      <td>852</td>\n",
       "      <td>NaN</td>\n",
       "      <td>5</td>\n",
       "      <td>2</td>\n",
       "      <td>2020-05-27 19:42:27.463</td>\n",
       "      <td>2020-05-27 19:53:57.094</td>\n",
       "      <td>7</td>\n",
       "      <td>...</td>\n",
       "      <td>Jeremy</td>\n",
       "      <td>Clinician</td>\n",
       "      <td>Patient 852</td>\n",
       "      <td>17</td>\n",
       "      <td>F</td>\n",
       "      <td>Point Station</td>\n",
       "      <td>Victor Ramos</td>\n",
       "      <td>\\tProtocol 5: Back Pain (Non-Traumatic or Non-...</td>\n",
       "      <td>Manukau Hospital</td>\n",
       "      <td>2500</td>\n",
       "    </tr>\n",
       "  </tbody>\n",
       "</table>\n",
       "<p>5 rows × 23 columns</p>\n",
       "</div>"
      ],
      "text/plain": [
       "        DateTimeOfCall  LengthofCalls(mins)  CallStaffID  PatientID  Notes  \\\n",
       "0  12/04/2020 02:06:18            11.182272           23       1066    NaN   \n",
       "1  26/04/2020 21:07:02            13.030236           22       1039    NaN   \n",
       "2  20/08/2020 16:35:42            16.392961            6       2381    NaN   \n",
       "3  05/02/2020 02:18:45             9.959937            7       2635    NaN   \n",
       "4  27/05/2020 19:41:21            17.168555            6        852    NaN   \n",
       "\n",
       "   DispatchCode  AmbulanceStationID  AmbulanceDepartureTime  \\\n",
       "0             3                   3 2020-04-12 02:07:18.203   \n",
       "1            17                   3 2020-04-26 21:21:33.993   \n",
       "2             9                   5 2020-08-20 16:38:10.535   \n",
       "3             1                   1 2020-02-05 02:50:25.673   \n",
       "4             5                   2 2020-05-27 19:42:27.463   \n",
       "\n",
       "  AmulanceArrivalTimePatient  HospitalID  ... LastName   Position  \\\n",
       "0    2020-04-12 02:14:50.753          12  ...    Jerry   Operator   \n",
       "1    2020-04-26 21:23:49.133           4  ...    Keith   Operator   \n",
       "2    2020-08-20 16:58:40.127           1  ...   Jeremy  Clinician   \n",
       "3    2020-02-05 02:56:20.244           2  ...  Anthony  Clinician   \n",
       "4    2020-05-27 19:53:57.094           7  ...   Jeremy  Clinician   \n",
       "\n",
       "    PatientName PatientAge Gender              Name          Manager  \\\n",
       "0  Patient 1066         36      M  Junction Station  Mark Montgomery   \n",
       "1  Patient 1039         23      M  Junction Station  Mark Montgomery   \n",
       "2  Patient 2381         42      M     Alley Station  Gregory Simmons   \n",
       "3  Patient 2635         41      F   Parkway Station      Jesse Evans   \n",
       "4   Patient 852         17      F     Point Station     Victor Ramos   \n",
       "\n",
       "                                        ProtocolName              HospName  \\\n",
       "0        \\tProtocol 3: Animal Bites/Attacks_x000D_\\n  North Shore Hospital   \n",
       "1                               \\tProtocol 17: Falls     Hamilton Hospital   \n",
       "2    Protocol 9: Cardiac or Respiratory Arrest/Death     Auckland Hospital   \n",
       "3     \\tProtocol 1: Abdominal Pain/Problems_x000D_\\n      Dunedin Hospital   \n",
       "4  \\tProtocol 5: Back Pain (Non-Traumatic or Non-...      Manukau Hospital   \n",
       "\n",
       "  Capacity  \n",
       "0    12000  \n",
       "1    10000  \n",
       "2    15000  \n",
       "3    10000  \n",
       "4     2500  \n",
       "\n",
       "[5 rows x 23 columns]"
      ]
     },
     "execution_count": 13,
     "metadata": {},
     "output_type": "execute_result"
    }
   ],
   "source": [
    "merged = emergency.merge(staff, on = 'CallStaffID', how = 'left').merge(patients, on='PatientID', how='left').merge(ambulance_stations, on = 'AmbulanceStationID',how='left').merge(dispatch, on = 'DispatchCode', how = 'left').merge(hospitals,on = 'HospitalID', how = 'left')\n",
    "merged.head()\n"
   ]
  },
  {
   "cell_type": "code",
   "execution_count": 14,
   "id": "2cda0234-b7c7-4681-83e1-bdd4c2ebc0f3",
   "metadata": {},
   "outputs": [
    {
     "data": {
      "text/html": [
       "<div>\n",
       "<style scoped>\n",
       "    .dataframe tbody tr th:only-of-type {\n",
       "        vertical-align: middle;\n",
       "    }\n",
       "\n",
       "    .dataframe tbody tr th {\n",
       "        vertical-align: top;\n",
       "    }\n",
       "\n",
       "    .dataframe thead th {\n",
       "        text-align: right;\n",
       "    }\n",
       "</style>\n",
       "<table border=\"1\" class=\"dataframe\">\n",
       "  <thead>\n",
       "    <tr style=\"text-align: right;\">\n",
       "      <th></th>\n",
       "      <th>DateTimeOfCall</th>\n",
       "      <th>LengthofCalls(mins)</th>\n",
       "      <th>CallStaffID</th>\n",
       "      <th>PatientID</th>\n",
       "      <th>Notes</th>\n",
       "      <th>DispatchCode</th>\n",
       "      <th>AmbulanceStationID</th>\n",
       "      <th>AmbulanceDepartureTime</th>\n",
       "      <th>AmbulanceArrivalTimePatient</th>\n",
       "      <th>HospitalID</th>\n",
       "      <th>...</th>\n",
       "      <th>StaffLastName</th>\n",
       "      <th>Position</th>\n",
       "      <th>PatientName</th>\n",
       "      <th>PatientAge</th>\n",
       "      <th>Gender</th>\n",
       "      <th>AmbulanceStationName</th>\n",
       "      <th>AmbulanceStationManager</th>\n",
       "      <th>ProtocolName</th>\n",
       "      <th>HospName</th>\n",
       "      <th>Capacity</th>\n",
       "    </tr>\n",
       "  </thead>\n",
       "  <tbody>\n",
       "    <tr>\n",
       "      <th>0</th>\n",
       "      <td>12/04/2020 02:06:18</td>\n",
       "      <td>11.182272</td>\n",
       "      <td>23</td>\n",
       "      <td>1066</td>\n",
       "      <td>NaN</td>\n",
       "      <td>3</td>\n",
       "      <td>3</td>\n",
       "      <td>2020-04-12 02:07:18.203</td>\n",
       "      <td>2020-04-12 02:14:50.753</td>\n",
       "      <td>12</td>\n",
       "      <td>...</td>\n",
       "      <td>Jerry</td>\n",
       "      <td>Operator</td>\n",
       "      <td>Patient 1066</td>\n",
       "      <td>36</td>\n",
       "      <td>M</td>\n",
       "      <td>Junction Station</td>\n",
       "      <td>Mark Montgomery</td>\n",
       "      <td>\\tProtocol 3: Animal Bites/Attacks_x000D_\\n</td>\n",
       "      <td>North Shore Hospital</td>\n",
       "      <td>12000</td>\n",
       "    </tr>\n",
       "    <tr>\n",
       "      <th>1</th>\n",
       "      <td>26/04/2020 21:07:02</td>\n",
       "      <td>13.030236</td>\n",
       "      <td>22</td>\n",
       "      <td>1039</td>\n",
       "      <td>NaN</td>\n",
       "      <td>17</td>\n",
       "      <td>3</td>\n",
       "      <td>2020-04-26 21:21:33.993</td>\n",
       "      <td>2020-04-26 21:23:49.133</td>\n",
       "      <td>4</td>\n",
       "      <td>...</td>\n",
       "      <td>Keith</td>\n",
       "      <td>Operator</td>\n",
       "      <td>Patient 1039</td>\n",
       "      <td>23</td>\n",
       "      <td>M</td>\n",
       "      <td>Junction Station</td>\n",
       "      <td>Mark Montgomery</td>\n",
       "      <td>\\tProtocol 17: Falls</td>\n",
       "      <td>Hamilton Hospital</td>\n",
       "      <td>10000</td>\n",
       "    </tr>\n",
       "    <tr>\n",
       "      <th>2</th>\n",
       "      <td>20/08/2020 16:35:42</td>\n",
       "      <td>16.392961</td>\n",
       "      <td>6</td>\n",
       "      <td>2381</td>\n",
       "      <td>NaN</td>\n",
       "      <td>9</td>\n",
       "      <td>5</td>\n",
       "      <td>2020-08-20 16:38:10.535</td>\n",
       "      <td>2020-08-20 16:58:40.127</td>\n",
       "      <td>1</td>\n",
       "      <td>...</td>\n",
       "      <td>Jeremy</td>\n",
       "      <td>Clinician</td>\n",
       "      <td>Patient 2381</td>\n",
       "      <td>42</td>\n",
       "      <td>M</td>\n",
       "      <td>Alley Station</td>\n",
       "      <td>Gregory Simmons</td>\n",
       "      <td>Protocol 9: Cardiac or Respiratory Arrest/Death</td>\n",
       "      <td>Auckland Hospital</td>\n",
       "      <td>15000</td>\n",
       "    </tr>\n",
       "    <tr>\n",
       "      <th>3</th>\n",
       "      <td>05/02/2020 02:18:45</td>\n",
       "      <td>9.959937</td>\n",
       "      <td>7</td>\n",
       "      <td>2635</td>\n",
       "      <td>NaN</td>\n",
       "      <td>1</td>\n",
       "      <td>1</td>\n",
       "      <td>2020-02-05 02:50:25.673</td>\n",
       "      <td>2020-02-05 02:56:20.244</td>\n",
       "      <td>2</td>\n",
       "      <td>...</td>\n",
       "      <td>Anthony</td>\n",
       "      <td>Clinician</td>\n",
       "      <td>Patient 2635</td>\n",
       "      <td>41</td>\n",
       "      <td>F</td>\n",
       "      <td>Parkway Station</td>\n",
       "      <td>Jesse Evans</td>\n",
       "      <td>\\tProtocol 1: Abdominal Pain/Problems_x000D_\\n</td>\n",
       "      <td>Dunedin Hospital</td>\n",
       "      <td>10000</td>\n",
       "    </tr>\n",
       "    <tr>\n",
       "      <th>4</th>\n",
       "      <td>27/05/2020 19:41:21</td>\n",
       "      <td>17.168555</td>\n",
       "      <td>6</td>\n",
       "      <td>852</td>\n",
       "      <td>NaN</td>\n",
       "      <td>5</td>\n",
       "      <td>2</td>\n",
       "      <td>2020-05-27 19:42:27.463</td>\n",
       "      <td>2020-05-27 19:53:57.094</td>\n",
       "      <td>7</td>\n",
       "      <td>...</td>\n",
       "      <td>Jeremy</td>\n",
       "      <td>Clinician</td>\n",
       "      <td>Patient 852</td>\n",
       "      <td>17</td>\n",
       "      <td>F</td>\n",
       "      <td>Point Station</td>\n",
       "      <td>Victor Ramos</td>\n",
       "      <td>\\tProtocol 5: Back Pain (Non-Traumatic or Non-...</td>\n",
       "      <td>Manukau Hospital</td>\n",
       "      <td>2500</td>\n",
       "    </tr>\n",
       "  </tbody>\n",
       "</table>\n",
       "<p>5 rows × 23 columns</p>\n",
       "</div>"
      ],
      "text/plain": [
       "        DateTimeOfCall  LengthofCalls(mins)  CallStaffID  PatientID  Notes  \\\n",
       "0  12/04/2020 02:06:18            11.182272           23       1066    NaN   \n",
       "1  26/04/2020 21:07:02            13.030236           22       1039    NaN   \n",
       "2  20/08/2020 16:35:42            16.392961            6       2381    NaN   \n",
       "3  05/02/2020 02:18:45             9.959937            7       2635    NaN   \n",
       "4  27/05/2020 19:41:21            17.168555            6        852    NaN   \n",
       "\n",
       "   DispatchCode  AmbulanceStationID  AmbulanceDepartureTime  \\\n",
       "0             3                   3 2020-04-12 02:07:18.203   \n",
       "1            17                   3 2020-04-26 21:21:33.993   \n",
       "2             9                   5 2020-08-20 16:38:10.535   \n",
       "3             1                   1 2020-02-05 02:50:25.673   \n",
       "4             5                   2 2020-05-27 19:42:27.463   \n",
       "\n",
       "  AmbulanceArrivalTimePatient  HospitalID  ... StaffLastName   Position  \\\n",
       "0     2020-04-12 02:14:50.753          12  ...         Jerry   Operator   \n",
       "1     2020-04-26 21:23:49.133           4  ...         Keith   Operator   \n",
       "2     2020-08-20 16:58:40.127           1  ...        Jeremy  Clinician   \n",
       "3     2020-02-05 02:56:20.244           2  ...       Anthony  Clinician   \n",
       "4     2020-05-27 19:53:57.094           7  ...        Jeremy  Clinician   \n",
       "\n",
       "    PatientName PatientAge Gender AmbulanceStationName  \\\n",
       "0  Patient 1066         36      M     Junction Station   \n",
       "1  Patient 1039         23      M     Junction Station   \n",
       "2  Patient 2381         42      M        Alley Station   \n",
       "3  Patient 2635         41      F      Parkway Station   \n",
       "4   Patient 852         17      F        Point Station   \n",
       "\n",
       "   AmbulanceStationManager                                       ProtocolName  \\\n",
       "0          Mark Montgomery        \\tProtocol 3: Animal Bites/Attacks_x000D_\\n   \n",
       "1          Mark Montgomery                               \\tProtocol 17: Falls   \n",
       "2          Gregory Simmons    Protocol 9: Cardiac or Respiratory Arrest/Death   \n",
       "3              Jesse Evans     \\tProtocol 1: Abdominal Pain/Problems_x000D_\\n   \n",
       "4             Victor Ramos  \\tProtocol 5: Back Pain (Non-Traumatic or Non-...   \n",
       "\n",
       "               HospName Capacity  \n",
       "0  North Shore Hospital    12000  \n",
       "1     Hamilton Hospital    10000  \n",
       "2     Auckland Hospital    15000  \n",
       "3      Dunedin Hospital    10000  \n",
       "4      Manukau Hospital     2500  \n",
       "\n",
       "[5 rows x 23 columns]"
      ]
     },
     "execution_count": 14,
     "metadata": {},
     "output_type": "execute_result"
    }
   ],
   "source": [
    "merged = merged.rename(columns = {'FirstName': 'StaffFirstName','LastName':'StaffLastName','Name':'AmbulanceStationName','Manager':'AmbulanceStationManager', 'AmulanceArrivalTimePatient':'AmbulanceArrivalTimePatient'})\n",
    "\n",
    "merged.head()\n"
   ]
  },
  {
   "cell_type": "markdown",
   "id": "15ab6235-187b-448b-b711-a022a425ae37",
   "metadata": {},
   "source": [
    "<h1 style=\"font-size:25px;\">Call Volume Analysis</h1>\n"
   ]
  },
  {
   "cell_type": "markdown",
   "id": "c6d17d8c-f473-413e-ab1b-dc2d95eb8ebc",
   "metadata": {},
   "source": [
    "<h1 style=\"font-size:20px;\">Total Number of Calls in the Dataset</h1>"
   ]
  },
  {
   "cell_type": "code",
   "execution_count": 15,
   "id": "bcfc440a-096c-48cb-8148-4b91bd8282d0",
   "metadata": {},
   "outputs": [
    {
     "name": "stdout",
     "output_type": "stream",
     "text": [
      "Total number of calls: 3000\n"
     ]
    }
   ],
   "source": [
    "calls = len(emergency)\n",
    "\n",
    "print(f\"Total number of calls: {calls}\")"
   ]
  },
  {
   "cell_type": "markdown",
   "id": "e2435d48-f460-465f-8148-1fb019304ffb",
   "metadata": {},
   "source": [
    "<h1 style=\"font-size:20px;\">How many calls occurred each month?</h1>"
   ]
  },
  {
   "cell_type": "code",
   "execution_count": 16,
   "id": "abd2f872-42ec-49cc-b6c3-c844b57a8db9",
   "metadata": {},
   "outputs": [
    {
     "data": {
      "text/html": [
       "<div>\n",
       "<style scoped>\n",
       "    .dataframe tbody tr th:only-of-type {\n",
       "        vertical-align: middle;\n",
       "    }\n",
       "\n",
       "    .dataframe tbody tr th {\n",
       "        vertical-align: top;\n",
       "    }\n",
       "\n",
       "    .dataframe thead th {\n",
       "        text-align: right;\n",
       "    }\n",
       "</style>\n",
       "<table border=\"1\" class=\"dataframe\">\n",
       "  <thead>\n",
       "    <tr style=\"text-align: right;\">\n",
       "      <th></th>\n",
       "      <th>YearMonth</th>\n",
       "      <th>EmergencyCallCount</th>\n",
       "    </tr>\n",
       "  </thead>\n",
       "  <tbody>\n",
       "    <tr>\n",
       "      <th>0</th>\n",
       "      <td>2020-01</td>\n",
       "      <td>260</td>\n",
       "    </tr>\n",
       "    <tr>\n",
       "      <th>1</th>\n",
       "      <td>2020-02</td>\n",
       "      <td>257</td>\n",
       "    </tr>\n",
       "    <tr>\n",
       "      <th>2</th>\n",
       "      <td>2020-03</td>\n",
       "      <td>246</td>\n",
       "    </tr>\n",
       "    <tr>\n",
       "      <th>3</th>\n",
       "      <td>2020-04</td>\n",
       "      <td>261</td>\n",
       "    </tr>\n",
       "    <tr>\n",
       "      <th>4</th>\n",
       "      <td>2020-05</td>\n",
       "      <td>254</td>\n",
       "    </tr>\n",
       "  </tbody>\n",
       "</table>\n",
       "</div>"
      ],
      "text/plain": [
       "  YearMonth  EmergencyCallCount\n",
       "0   2020-01                 260\n",
       "1   2020-02                 257\n",
       "2   2020-03                 246\n",
       "3   2020-04                 261\n",
       "4   2020-05                 254"
      ]
     },
     "execution_count": 16,
     "metadata": {},
     "output_type": "execute_result"
    }
   ],
   "source": [
    "emergency['DateTimeOfCall'] = pd.to_datetime(emergency['DateTimeOfCall'],\n",
    "                                             dayfirst = True,\n",
    "                                             format = '%d/%m/%Y %H:%M:%S',\n",
    "                                             errors = 'coerce')\n",
    "emergency['YearMonth'] = emergency['DateTimeOfCall'].dt.to_period('M')\n",
    "\n",
    "total_calls = emergency.groupby('YearMonth').size().rename('EmergencyCallCount').reset_index()\n",
    "\n",
    "total_calls.head()"
   ]
  },
  {
   "cell_type": "markdown",
   "id": "4dcc86fc-7844-49c7-87bf-822e5aad10d5",
   "metadata": {},
   "source": [
    "<h1 style=\"font-size:20px;\">What's the average call duration in minutes?</h1>"
   ]
  },
  {
   "cell_type": "code",
   "execution_count": 17,
   "id": "291a644e-bad0-4f71-b389-f2f561a8a9b3",
   "metadata": {},
   "outputs": [
    {
     "name": "stdout",
     "output_type": "stream",
     "text": [
      "11.102745569705963\n"
     ]
    }
   ],
   "source": [
    "avg_duration = emergency['LengthofCalls(mins)'].mean()\n",
    "\n",
    "print(avg_duration)"
   ]
  },
  {
   "cell_type": "markdown",
   "id": "28d8f1e5-e0ff-42b9-9ed3-27f69ef487cc",
   "metadata": {},
   "source": [
    "<h1 style=\"font-size:20px;\">Which 10 calls had the longest duration? </h1>"
   ]
  },
  {
   "cell_type": "code",
   "execution_count": 18,
   "id": "2966b3ef-452f-41e6-9c28-7e9130961e71",
   "metadata": {},
   "outputs": [
    {
     "name": "stdout",
     "output_type": "stream",
     "text": [
      "           DateTimeOfCall  LengthofCalls(mins)  PatientID  CallStaffID\n",
      "2306  27/11/2020 20:15:13            19.996751       2641           14\n",
      "2841  23/03/2020 05:15:06            19.979011       1428           17\n",
      "198   21/10/2020 14:13:10            19.975950       1128           16\n",
      "1707  19/01/2020 01:43:28            19.954277       2763            8\n",
      "2451  10/12/2020 10:22:26            19.953874        249            9\n",
      "1728  02/06/2020 11:45:10            19.952315       1914            2\n",
      "1607  28/02/2020 15:39:19            19.943132       1333           23\n",
      "1717  30/03/2020 22:23:45            19.938375       2526           16\n",
      "1406  05/06/2020 07:21:03            19.937215       1582            9\n",
      "1989  13/02/2020 20:25:13            19.929259       2305            2\n"
     ]
    }
   ],
   "source": [
    "longest_calls = merged.sort_values(by=\"LengthofCalls(mins)\", ascending=False).head(10)\n",
    "print(longest_calls[[\"DateTimeOfCall\", \"LengthofCalls(mins)\", \"PatientID\", \"CallStaffID\"]])\n"
   ]
  },
  {
   "cell_type": "markdown",
   "id": "c8ab8ee3-36f2-4776-ae74-bc88b647e521",
   "metadata": {},
   "source": [
    "<h1 style=\"font-size:20px;\">How many calls were longer than 15 minutes?</h1>"
   ]
  },
  {
   "cell_type": "code",
   "execution_count": 19,
   "id": "0f598ca3-9d81-4bd2-bcee-11341a6ec570",
   "metadata": {},
   "outputs": [
    {
     "name": "stdout",
     "output_type": "stream",
     "text": [
      "851\n"
     ]
    }
   ],
   "source": [
    "long = len(merged[merged['LengthofCalls(mins)']> 15])\n",
    "\n",
    "print(long)"
   ]
  },
  {
   "cell_type": "markdown",
   "id": "98bab483-4a45-4532-9744-5cfdf538b397",
   "metadata": {},
   "source": [
    "<h1 style=\"font-size:25px;\">Staff Performance</h1>"
   ]
  },
  {
   "cell_type": "markdown",
   "id": "94756e9a-b30c-4896-9ed0-026f22c15da0",
   "metadata": {},
   "source": [
    "<h1 style=\"font-size:20px;\">Which staff member handled the most calls?</h1>"
   ]
  },
  {
   "cell_type": "code",
   "execution_count": 20,
   "id": "2128537c-d6f3-42de-ac93-73a16c0aa30e",
   "metadata": {},
   "outputs": [
    {
     "data": {
      "text/html": [
       "<div>\n",
       "<style scoped>\n",
       "    .dataframe tbody tr th:only-of-type {\n",
       "        vertical-align: middle;\n",
       "    }\n",
       "\n",
       "    .dataframe tbody tr th {\n",
       "        vertical-align: top;\n",
       "    }\n",
       "\n",
       "    .dataframe thead th {\n",
       "        text-align: right;\n",
       "    }\n",
       "</style>\n",
       "<table border=\"1\" class=\"dataframe\">\n",
       "  <thead>\n",
       "    <tr style=\"text-align: right;\">\n",
       "      <th></th>\n",
       "      <th>CallStaffID</th>\n",
       "      <th>StaffFirstName</th>\n",
       "      <th>StaffLastName</th>\n",
       "      <th>CallCounts</th>\n",
       "    </tr>\n",
       "  </thead>\n",
       "  <tbody>\n",
       "    <tr>\n",
       "      <th>0</th>\n",
       "      <td>6</td>\n",
       "      <td>Janet</td>\n",
       "      <td>Jeremy</td>\n",
       "      <td>159</td>\n",
       "    </tr>\n",
       "  </tbody>\n",
       "</table>\n",
       "</div>"
      ],
      "text/plain": [
       "   CallStaffID StaffFirstName StaffLastName  CallCounts\n",
       "0            6          Janet        Jeremy         159"
      ]
     },
     "execution_count": 20,
     "metadata": {},
     "output_type": "execute_result"
    }
   ],
   "source": [
    "staff_member = merged.groupby(['CallStaffID', 'StaffFirstName', 'StaffLastName'])['DateTimeOfCall'].size().sort_values(ascending= False).reset_index(name = 'CallCounts')\n",
    "\n",
    "staff_member.head(1)\n"
   ]
  },
  {
   "cell_type": "markdown",
   "id": "e3ebf241-e4c4-4e0a-9793-9ab5fbe777d8",
   "metadata": {},
   "source": [
    "<h1 style=\"font-size:20px;\">Calculate the total call duration per staff member</h1>"
   ]
  },
  {
   "cell_type": "code",
   "execution_count": 21,
   "id": "8263316d-733b-43ea-b9a8-ea79234a30c0",
   "metadata": {},
   "outputs": [
    {
     "name": "stdout",
     "output_type": "stream",
     "text": [
      "CallStaffID  StaffFirstName  StaffLastName\n",
      "1            Shirley         Jesse            1572.338008\n",
      "2            Emily           Victor           1543.585144\n",
      "3            Elizabeth       Mark             1464.283394\n",
      "4            Janice          Dennis           1394.240014\n",
      "5            Timothy         Gregory          1503.652862\n",
      "6            Janet           Jeremy           1792.115750\n",
      "7            Martin          Anthony          1352.559642\n",
      "8            Henry           Ernest           1219.410059\n",
      "9            Nancy           Bobby            1467.013346\n",
      "10           Michelle        Bruce            1350.450581\n",
      "11           Harold          Nicholas         1452.937516\n",
      "12           Joyce           Raymond          1408.579736\n",
      "13           Sara            Jason            1333.593909\n",
      "14           Amy             Phillip          1258.462883\n",
      "15           Wanda           James            1408.833757\n",
      "16           Ronald          Benjamin         1555.679877\n",
      "17           Aaron           Shawn            1567.353154\n",
      "18           Cynthia         Steve            1468.681181\n",
      "19           Benjamin        Paul             1644.017701\n",
      "20           Carl            Joe              1333.265161\n",
      "21           Jeffrey         Adam             1351.876225\n",
      "22           Raymond         Keith            1466.930384\n",
      "23           Peter           Jerry            1398.376423\n",
      "Name: LengthofCalls(mins), dtype: float64\n"
     ]
    }
   ],
   "source": [
    "duration_staff = merged.groupby(['CallStaffID', 'StaffFirstName', 'StaffLastName'])['LengthofCalls(mins)'].sum()\n",
    "\n",
    "print(duration_staff)"
   ]
  },
  {
   "cell_type": "markdown",
   "id": "55a4d01a-b439-4012-8963-03c14c3f9761",
   "metadata": {},
   "source": [
    "<h1 style=\"font-size:20px;\">Staff Workload Distribution by Day of Week</h1>"
   ]
  },
  {
   "cell_type": "code",
   "execution_count": 28,
   "id": "fcc631e1-a66a-468a-9944-dcfaa0bca997",
   "metadata": {},
   "outputs": [
    {
     "name": "stdout",
     "output_type": "stream",
     "text": [
      "     CallStaffID  DayOfWeek  NumCalls\n",
      "0              1     Friday        30\n",
      "1              1     Monday        13\n",
      "2              1   Saturday        19\n",
      "3              1     Sunday        14\n",
      "4              1   Thursday        22\n",
      "..           ...        ...       ...\n",
      "156           23   Saturday        15\n",
      "157           23     Sunday        22\n",
      "158           23   Thursday        15\n",
      "159           23    Tuesday        27\n",
      "160           23  Wednesday        13\n",
      "\n",
      "[161 rows x 3 columns]\n"
     ]
    }
   ],
   "source": [
    "merged[\"DayOfWeek\"] = pd.to_datetime(merged[\"DateTimeOfCall\"]).dt.day_name()\n",
    "\n",
    "staff_by_day = (\n",
    "   merged.groupby([\"CallStaffID\", \"DayOfWeek\"]).size()\n",
    "    .reset_index(name=\"NumCalls\")\n",
    "    \n",
    ")\n",
    "\n",
    "print(staff_by_day)"
   ]
  },
  {
   "cell_type": "markdown",
   "id": "e15f0872-1f1c-4480-9afa-1856aa47ddad",
   "metadata": {},
   "source": [
    "<h1 style=\"font-size:25px;\">Ambulance Response Time Analysis</h1>"
   ]
  },
  {
   "cell_type": "markdown",
   "id": "ec16f93d-54fa-46ba-ad0c-7cb26423a362",
   "metadata": {},
   "source": [
    "<h1 style=\"font-size:20px;\">What's the average time between call received and ambulance departure?</h1>"
   ]
  },
  {
   "cell_type": "code",
   "execution_count": 27,
   "id": "2a985cda-5046-4f54-a660-25cb94f5f6c1",
   "metadata": {},
   "outputs": [
    {
     "name": "stdout",
     "output_type": "stream",
     "text": [
      "Raw average: 0 days 00:17:41.378965666\n",
      "Average: 17.69 minutes\n"
     ]
    }
   ],
   "source": [
    "merged['AmbulanceDepartureTime'] = pd.to_datetime(merged['AmbulanceDepartureTime'], \n",
    "                                                  dayfirst = True,\n",
    "                                                  format = '%d/%m/%Y %H:%M:%S',\n",
    "                                             errors = 'coerce')\n",
    "merged['DateTimeOfCall'] = pd.to_datetime(merged['DateTimeOfCall'], \n",
    "                                                  dayfirst = True,\n",
    "                                                  format = '%d/%m/%Y %H:%M:%S',\n",
    "                                             errors = 'coerce')\n",
    "\n",
    "departure =merged['AmbulanceDepartureTime']-merged['DateTimeOfCall']\n",
    "\n",
    "average = departure.mean()\n",
    "\n",
    "print(\"Raw average:\", average)  \n",
    "\n",
    "avg_minutes = average.total_seconds() / 60\n",
    "print(f\"Average: {avg_minutes:.2f} minutes\") "
   ]
  },
  {
   "cell_type": "markdown",
   "id": "37442be7-f184-43cc-89cd-54741a858e37",
   "metadata": {},
   "source": [
    "<h1 style=\"font-size:20px;\">Which ambulance station has the fastest response times?</h1>\t"
   ]
  },
  {
   "cell_type": "code",
   "execution_count": null,
   "id": "8165763a-f803-4b4c-8bf5-5b0703344575",
   "metadata": {},
   "outputs": [],
   "source": [
    "\n",
    "merged['response'] =  (merged['AmbulanceDepartureTime'] - merged['DateTimeOfCall']).dt.total_seconds() / 60\n",
    "\n",
    "\n",
    "fastest = merged.sort_values('response', ascending = True)[['AmbulanceStationName','response']]\n",
    "\n",
    "fastest['response'] = fastest['response'].astype(int)\n",
    "\n",
    "fastest_station = fastest.iloc[0]['AmbulanceStationName']\n",
    "fastest_response = fastest.iloc[0]['response']\n",
    "\n",
    "print(f\"The fastest station is {fastest_station} and the response time is {fastest_response} minute.\")"
   ]
  },
  {
   "cell_type": "markdown",
   "id": "57097f25-1190-4bcf-9bcc-1e22bd5959fe",
   "metadata": {},
   "source": [
    "<h1 style=\"font-size:20px;\">How long is the ambulance job complete time</h1>\t"
   ]
  },
  {
   "cell_type": "code",
   "execution_count": null,
   "id": "15834a04-e69d-40a2-906d-7ae2c4664c7e",
   "metadata": {},
   "outputs": [],
   "source": [
    "merged['AmbulanceJobCompleteTime'] = pd.to_datetime(\n",
    "    merged['AmbulanceJobCompleteTime'],\n",
    "    format='%d/%m/%Y %H:%M:%S',\n",
    "    dayfirst=True,\n",
    "    errors='coerce'\n",
    ")\n",
    "\n",
    "merged['AmulanceArrivalTimeHospital'] = pd.to_datetime(\n",
    "    merged['AmulanceArrivalTimeHospital'],\n",
    "    format='%d/%m/%Y %H:%M:%S',\n",
    "    dayfirst=True,\n",
    "    errors='coerce'\n",
    ")\n",
    "merged['TurnaroundTime'] = (\n",
    "    merged['AmbulanceJobCompleteTime'] - merged['AmulanceArrivalTimeHospital']\n",
    ").dt.total_seconds() / 60\n",
    "result = (\n",
    "    merged.groupby(['AmbulanceStationName', 'AmbulanceStationManager'])['TurnaroundTime']\n",
    "    .agg(AvgTurnaround='mean', NumJobs='count')\n",
    "    .reset_index()\n",
    ")\n",
    "print(result)"
   ]
  },
  {
   "cell_type": "code",
   "execution_count": null,
   "id": "1a719c55-6477-42c4-abd5-0ca2543d5166",
   "metadata": {},
   "outputs": [],
   "source": [
    "ambulance_stations.head()"
   ]
  },
  {
   "cell_type": "markdown",
   "id": "69db2473-0a3c-4024-9b32-8f062d8bb783",
   "metadata": {},
   "source": [
    "<h1 style=\"font-size:25px;\">Patient Focused Analysis</h1>"
   ]
  },
  {
   "cell_type": "markdown",
   "id": "36918b57-82ad-4308-8e86-49a004ae848b",
   "metadata": {},
   "source": [
    "<h1 style=\"font-size:20px;\">Patients who had more than 3 emergency calls</h1> \n",
    "\n"
   ]
  },
  {
   "cell_type": "code",
   "execution_count": null,
   "id": "29353b8b-5f14-43e7-a7e5-31cf3cca465a",
   "metadata": {},
   "outputs": [],
   "source": [
    "merged['patient_call_counts']  = merged.groupby('PatientID').size()  # Count calls per patient\n",
    "patients_with_more_than_3_calls = merged[merged['patient_call_counts'] > 3]\n",
    "\n",
    "frequent_patient_calls.head()"
   ]
  },
  {
   "cell_type": "markdown",
   "id": "984dd5cb-d791-43ad-a020-7e3e5bd5714d",
   "metadata": {},
   "source": [
    "<h1 style=\"font-size:20px;\">Female Patients Over 60</h1> \n"
   ]
  },
  {
   "cell_type": "code",
   "execution_count": null,
   "id": "34cdec2a-e800-4b13-8b68-e6b0b728fac1",
   "metadata": {},
   "outputs": [],
   "source": [
    "female = merged[(merged['Gender'] == 'F') & (merged['PatientAge'] > 60)]['PatientID'].reset_index()\n",
    "\n",
    "female.head()"
   ]
  },
  {
   "cell_type": "markdown",
   "id": "dcb5d3ff-0e38-4b48-a8f3-f8993a6e9d23",
   "metadata": {},
   "source": [
    "<h1 style=\"font-size:20px;\">Total number of unique patients per dispatch protocol</h1>"
   ]
  },
  {
   "cell_type": "code",
   "execution_count": null,
   "id": "6639180b-01ed-493c-a388-b630727951fb",
   "metadata": {},
   "outputs": [],
   "source": [
    "unique_patients_per_protocol = merged.groupby('ProtocolName')['PatientID'].nunique().reset_index()\n",
    "\n",
    "unique_patients_per_protocol.head()"
   ]
  },
  {
   "cell_type": "markdown",
   "id": "bf27e241-87f4-45a2-8a6e-d6ea8fa9a9c7",
   "metadata": {},
   "source": [
    "<h1 style=\"font-size:20px;\">Most common age group of patients</h1>"
   ]
  },
  {
   "cell_type": "code",
   "execution_count": null,
   "id": "74eff208-8bfd-42ca-81bb-567e41d768a0",
   "metadata": {},
   "outputs": [],
   "source": [
    "merged['Agegroup'] = pd.cut(merged['PatientAge'],bins = [0,18,35, 60, 120], labels = [\"0-18\", \"19-35\", \"36-60\", \"60+\"])\n",
    "\n",
    "age_group_counts = merged['Agegroup'].value_counts().reset_index()\n",
    "\n",
    "age_group_counts.head()"
   ]
  },
  {
   "cell_type": "markdown",
   "id": "ed9c9149-93ce-465a-a4cd-895f20084c0a",
   "metadata": {},
   "source": [
    "<h1 style=\"font-size:25px;\">Dispatch-Centric Analysis</h1>"
   ]
  },
  {
   "cell_type": "markdown",
   "id": "824fe0d0-bc08-4363-ac17-d2c9a333853f",
   "metadata": {},
   "source": [
    "<h1 style=\"font-size:20px;\">Protocols most used for patients aged 60+</h1>"
   ]
  },
  {
   "cell_type": "code",
   "execution_count": null,
   "id": "b0c237c6-66d5-44c6-b2ed-fd3e7cd9a663",
   "metadata": {},
   "outputs": [],
   "source": [
    "older_age = merged[merged['PatientAge']>60].groupby('ProtocolName').size().reset_index(name='count')\n",
    "\n",
    "most_protocols = older_age.sort_values('count',ascending= False)\n",
    "\n",
    "most_protocols.head()"
   ]
  },
  {
   "cell_type": "markdown",
   "id": "fca4eda5-c700-42e0-be08-1007cf8617f4",
   "metadata": {},
   "source": [
    "<h1 style=\"font-size:20px;\">Dispatches with low average response time (e.g., <10 mins)</h1>"
   ]
  },
  {
   "cell_type": "code",
   "execution_count": null,
   "id": "0d3f6274-b327-4666-846f-398c57300b71",
   "metadata": {},
   "outputs": [],
   "source": [
    "merged['AmbulanceArrivalTimePatient'] = pd.to_datetime(merged['AmbulanceArrivalTimePatient'], \n",
    "                                                  dayfirst = True,\n",
    "                                                  format = '%d/%m/%Y %H:%M:%S',\n",
    "                                             errors = 'coerce')\n",
    "merged['DateTimeOfCall'] = pd.to_datetime(merged['DateTimeOfCall'], \n",
    "                                                  dayfirst = True,\n",
    "                                                  format = '%d/%m/%Y %H:%M:%S',\n",
    "                                             errors = 'coerce')\n",
    "\n",
    "merged['response_time'] = (merged['AmbulanceArrivalTimePatient']-merged['DateTimeOfCall']).dt.total_seconds()/60\n",
    "\n",
    "low_average_time = merged[merged['response_time']<10][['DispatchCode','response_time']].reset_index()\n",
    "\n",
    "\n",
    "low_average_time.head()\n",
    "\n"
   ]
  },
  {
   "cell_type": "markdown",
   "id": "38550e58-326d-4965-8baf-b19ff932abf4",
   "metadata": {},
   "source": [
    "<h1 style=\"font-size:20px;\">Calls using protocol \"Trauma\" or \"Cardiac Arrest\"</h1>"
   ]
  },
  {
   "cell_type": "code",
   "execution_count": null,
   "id": "e07c817a-d1b0-4d34-bb3b-b96c0607ce27",
   "metadata": {},
   "outputs": [],
   "source": [
    "trauma_cardiac_cases = merged[\n",
    "    merged['ProtocolName'].str.contains('Trauma|Cardiac Arrest', case=False, na=False)\n",
    "][['PatientID', 'ProtocolName']].drop_duplicates()\n",
    "\n",
    "print(trauma_cardiac_cases)"
   ]
  },
  {
   "cell_type": "markdown",
   "id": "95ff7b04-001d-4995-87fa-3c3bbfcc79a0",
   "metadata": {},
   "source": [
    "<h1 style=\"font-size:20px;\">Hospital-Focused Analysis</h1>"
   ]
  },
  {
   "cell_type": "markdown",
   "id": "0c07381e-9a7e-4bb5-83f0-4a956eb15ded",
   "metadata": {},
   "source": [
    "<h1 style=\"font-size:20px;\">Calls routed to hospitals with capacity more than 10000</h1>\n"
   ]
  },
  {
   "cell_type": "code",
   "execution_count": null,
   "id": "34e0c67a-3703-42de-b1d5-e39a045b4ab8",
   "metadata": {},
   "outputs": [],
   "source": [
    "capacity = merged[merged['Capacity'] > 10000][['HospitalID','HospName','Capacity']]\n",
    "\n",
    "capacity.head()"
   ]
  },
  {
   "cell_type": "markdown",
   "id": "068f4925-e426-4f42-9c42-c42516e9d56c",
   "metadata": {},
   "source": [
    "<h1 style=\"font-size:20px;\">Calls that took 1 hour from ambulance departure to hospital arrival per hospital"
   ]
  },
  {
   "cell_type": "code",
   "execution_count": null,
   "id": "4960be55-54ef-4e82-bddf-5cc73336a2fc",
   "metadata": {},
   "outputs": [],
   "source": [
    "merged['AmbulanceDepartureTime'] = pd.to_datetime(merged['AmbulanceDepartureTime'], \n",
    "                                                  dayfirst = True,\n",
    "                                                  format = '%d/%m/%Y %H:%M:%S',\n",
    "                                             errors = 'coerce')\n",
    "merged['AmbulanceArrivalTimePatient'] = pd.to_datetime(merged['AmbulanceArrivalTimePatient'],\n",
    "                                                      dayfirst= True,\n",
    "                                                      format =  '%d/%m/%Y %H:%M:%S',\n",
    "                                             errors = 'coerce')\n",
    "\n",
    "merged['ResponseTime'] = (\n",
    "    merged['AmbulanceArrivalTimePatient'] - merged['AmbulanceDepartureTime']\n",
    ").dt.total_seconds() / 60\n",
    "\n",
    "unusually_long = merged[merged['ResponseTime'] >= 120][['HospitalID','HospName']]\n",
    "\n",
    "\n",
    "unusually_long.head()"
   ]
  },
  {
   "cell_type": "code",
   "execution_count": null,
   "id": "516f3bef-43fd-4e6e-a70e-10e6c3bb7ce1",
   "metadata": {},
   "outputs": [],
   "source": []
  }
 ],
 "metadata": {
  "kernelspec": {
   "display_name": "Python [conda env:base] *",
   "language": "python",
   "name": "conda-base-py"
  },
  "language_info": {
   "codemirror_mode": {
    "name": "ipython",
    "version": 3
   },
   "file_extension": ".py",
   "mimetype": "text/x-python",
   "name": "python",
   "nbconvert_exporter": "python",
   "pygments_lexer": "ipython3",
   "version": "3.12.7"
  }
 },
 "nbformat": 4,
 "nbformat_minor": 5
}
